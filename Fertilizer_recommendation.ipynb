{
 "cells": [
  {
   "cell_type": "code",
   "execution_count": 1,
   "metadata": {},
   "outputs": [],
   "source": [
    "import pandas as pd"
   ]
  },
  {
   "cell_type": "code",
   "execution_count": 2,
   "metadata": {},
   "outputs": [
    {
     "data": {
      "text/html": [
       "<div>\n",
       "<style scoped>\n",
       "    .dataframe tbody tr th:only-of-type {\n",
       "        vertical-align: middle;\n",
       "    }\n",
       "\n",
       "    .dataframe tbody tr th {\n",
       "        vertical-align: top;\n",
       "    }\n",
       "\n",
       "    .dataframe thead th {\n",
       "        text-align: right;\n",
       "    }\n",
       "</style>\n",
       "<table border=\"1\" class=\"dataframe\">\n",
       "  <thead>\n",
       "    <tr style=\"text-align: right;\">\n",
       "      <th></th>\n",
       "      <th>Temparature</th>\n",
       "      <th>Humidity</th>\n",
       "      <th>Moisture</th>\n",
       "      <th>Soil Type</th>\n",
       "      <th>Crop Type</th>\n",
       "      <th>Nitrogen</th>\n",
       "      <th>Potassium</th>\n",
       "      <th>Phosphorous</th>\n",
       "      <th>Fertilizer Name</th>\n",
       "    </tr>\n",
       "  </thead>\n",
       "  <tbody>\n",
       "    <tr>\n",
       "      <th>0</th>\n",
       "      <td>26</td>\n",
       "      <td>52</td>\n",
       "      <td>38</td>\n",
       "      <td>Sandy</td>\n",
       "      <td>Maize</td>\n",
       "      <td>37</td>\n",
       "      <td>0</td>\n",
       "      <td>0</td>\n",
       "      <td>Urea</td>\n",
       "    </tr>\n",
       "    <tr>\n",
       "      <th>1</th>\n",
       "      <td>29</td>\n",
       "      <td>52</td>\n",
       "      <td>45</td>\n",
       "      <td>Loamy</td>\n",
       "      <td>Sugarcane</td>\n",
       "      <td>12</td>\n",
       "      <td>0</td>\n",
       "      <td>36</td>\n",
       "      <td>DAP</td>\n",
       "    </tr>\n",
       "    <tr>\n",
       "      <th>2</th>\n",
       "      <td>34</td>\n",
       "      <td>65</td>\n",
       "      <td>62</td>\n",
       "      <td>Black</td>\n",
       "      <td>Cotton</td>\n",
       "      <td>7</td>\n",
       "      <td>9</td>\n",
       "      <td>30</td>\n",
       "      <td>14-35-14</td>\n",
       "    </tr>\n",
       "    <tr>\n",
       "      <th>3</th>\n",
       "      <td>32</td>\n",
       "      <td>62</td>\n",
       "      <td>34</td>\n",
       "      <td>Red</td>\n",
       "      <td>Tobacco</td>\n",
       "      <td>22</td>\n",
       "      <td>0</td>\n",
       "      <td>20</td>\n",
       "      <td>28-28</td>\n",
       "    </tr>\n",
       "    <tr>\n",
       "      <th>4</th>\n",
       "      <td>28</td>\n",
       "      <td>54</td>\n",
       "      <td>46</td>\n",
       "      <td>Clayey</td>\n",
       "      <td>Paddy</td>\n",
       "      <td>35</td>\n",
       "      <td>0</td>\n",
       "      <td>0</td>\n",
       "      <td>Urea</td>\n",
       "    </tr>\n",
       "  </tbody>\n",
       "</table>\n",
       "</div>"
      ],
      "text/plain": [
       "   Temparature  Humidity   Moisture Soil Type  Crop Type  Nitrogen  Potassium  \\\n",
       "0           26         52        38     Sandy      Maize        37          0   \n",
       "1           29         52        45     Loamy  Sugarcane        12          0   \n",
       "2           34         65        62     Black     Cotton         7          9   \n",
       "3           32         62        34       Red    Tobacco        22          0   \n",
       "4           28         54        46    Clayey      Paddy        35          0   \n",
       "\n",
       "   Phosphorous Fertilizer Name  \n",
       "0            0            Urea  \n",
       "1           36             DAP  \n",
       "2           30        14-35-14  \n",
       "3           20           28-28  \n",
       "4            0            Urea  "
      ]
     },
     "execution_count": 2,
     "metadata": {},
     "output_type": "execute_result"
    }
   ],
   "source": [
    "df=pd.read_csv(\"Fertilizer Prediction.csv\")\n",
    "df.head()"
   ]
  },
  {
   "cell_type": "code",
   "execution_count": 7,
   "metadata": {},
   "outputs": [
    {
     "data": {
      "text/plain": [
       "\"from sklearn.preprocessing import LabelEncoder  #LabelEncoder convert string into numeric values\\nle=LabelEncoder()\\ndf['Soil Type']=le.fit_transform(df['Soil Type'])\\ndf['Crop Type']=le.fit_transform(df['Crop Type'])\\ndf['Fertilizer Name']=le.fit_transform(df['Fertilizer Name'])\""
      ]
     },
     "execution_count": 7,
     "metadata": {},
     "output_type": "execute_result"
    }
   ],
   "source": [
    "from sklearn.preprocessing import LabelEncoder  #LabelEncoder convert string into numeric values\n",
    "le=LabelEncoder()\n",
    "df['Soil Type']=le.fit_transform(df['Soil Type'])\n",
    "df['Crop Type']=le.fit_transform(df['Crop Type'])\n",
    "df['Fertilizer Name']=le.fit_transform(df['Fertilizer Name'])"
   ]
  },
  {
   "cell_type": "code",
   "execution_count": 9,
   "metadata": {},
   "outputs": [
    {
     "name": "stdout",
     "output_type": "stream",
     "text": [
      "Soil Type <bound method Series.unique of 0     4\n",
      "1     2\n",
      "2     0\n",
      "3     3\n",
      "4     1\n",
      "     ..\n",
      "94    1\n",
      "95    3\n",
      "96    2\n",
      "97    4\n",
      "98    0\n",
      "Name: Soil Type, Length: 99, dtype: int32>\n",
      "Crop Type <bound method Series.unique of 0      3\n",
      "1      8\n",
      "2      1\n",
      "3      9\n",
      "4      6\n",
      "      ..\n",
      "94     7\n",
      "95     9\n",
      "96    10\n",
      "97     4\n",
      "98     8\n",
      "Name: Crop Type, Length: 99, dtype: int32>\n",
      "Fertilizer Name <bound method Series.unique of 0     6\n",
      "1     5\n",
      "2     1\n",
      "3     4\n",
      "4     6\n",
      "     ..\n",
      "94    4\n",
      "95    0\n",
      "96    6\n",
      "97    5\n",
      "98    3\n",
      "Name: Fertilizer Name, Length: 99, dtype: int32>\n"
     ]
    }
   ],
   "source": [
    "st=df['Soil Type'].unique\n",
    "print(f\"Soil Type {st}\")\n",
    "ct=df['Crop Type'].unique\n",
    "print(f\"Crop Type {ct}\")\n",
    "fn=df['Fertilizer Name'].unique\n",
    "print(f\"Fertilizer Name {fn}\")"
   ]
  },
  {
   "cell_type": "code",
   "execution_count": 10,
   "metadata": {},
   "outputs": [
    {
     "data": {
      "text/plain": [
       "Temparature        0\n",
       "Humidity           0\n",
       "Moisture           0\n",
       "Soil Type          0\n",
       "Crop Type          0\n",
       "Nitrogen           0\n",
       "Potassium          0\n",
       "Phosphorous        0\n",
       "Fertilizer Name    0\n",
       "dtype: int64"
      ]
     },
     "execution_count": 10,
     "metadata": {},
     "output_type": "execute_result"
    }
   ],
   "source": [
    "df.isnull().sum()"
   ]
  },
  {
   "cell_type": "code",
   "execution_count": 11,
   "metadata": {},
   "outputs": [
    {
     "data": {
      "text/plain": [
       "0"
      ]
     },
     "execution_count": 11,
     "metadata": {},
     "output_type": "execute_result"
    }
   ],
   "source": [
    "df.duplicated().sum()"
   ]
  },
  {
   "cell_type": "code",
   "execution_count": 12,
   "metadata": {},
   "outputs": [
    {
     "data": {
      "text/html": [
       "<div>\n",
       "<style scoped>\n",
       "    .dataframe tbody tr th:only-of-type {\n",
       "        vertical-align: middle;\n",
       "    }\n",
       "\n",
       "    .dataframe tbody tr th {\n",
       "        vertical-align: top;\n",
       "    }\n",
       "\n",
       "    .dataframe thead th {\n",
       "        text-align: right;\n",
       "    }\n",
       "</style>\n",
       "<table border=\"1\" class=\"dataframe\">\n",
       "  <thead>\n",
       "    <tr style=\"text-align: right;\">\n",
       "      <th></th>\n",
       "      <th>Temparature</th>\n",
       "      <th>Humidity</th>\n",
       "      <th>Moisture</th>\n",
       "      <th>Soil Type</th>\n",
       "      <th>Crop Type</th>\n",
       "      <th>Nitrogen</th>\n",
       "      <th>Potassium</th>\n",
       "      <th>Phosphorous</th>\n",
       "      <th>Fertilizer Name</th>\n",
       "    </tr>\n",
       "  </thead>\n",
       "  <tbody>\n",
       "    <tr>\n",
       "      <th>count</th>\n",
       "      <td>99.000000</td>\n",
       "      <td>99.000000</td>\n",
       "      <td>99.000000</td>\n",
       "      <td>99.000000</td>\n",
       "      <td>99.000000</td>\n",
       "      <td>99.000000</td>\n",
       "      <td>99.000000</td>\n",
       "      <td>99.000000</td>\n",
       "      <td>99.000000</td>\n",
       "    </tr>\n",
       "    <tr>\n",
       "      <th>mean</th>\n",
       "      <td>30.282828</td>\n",
       "      <td>59.151515</td>\n",
       "      <td>43.181818</td>\n",
       "      <td>2.010101</td>\n",
       "      <td>5.151515</td>\n",
       "      <td>18.909091</td>\n",
       "      <td>3.383838</td>\n",
       "      <td>18.606061</td>\n",
       "      <td>3.636364</td>\n",
       "    </tr>\n",
       "    <tr>\n",
       "      <th>std</th>\n",
       "      <td>3.502304</td>\n",
       "      <td>5.840331</td>\n",
       "      <td>11.271568</td>\n",
       "      <td>1.410565</td>\n",
       "      <td>3.140790</td>\n",
       "      <td>11.599693</td>\n",
       "      <td>5.814667</td>\n",
       "      <td>13.476978</td>\n",
       "      <td>1.950691</td>\n",
       "    </tr>\n",
       "    <tr>\n",
       "      <th>min</th>\n",
       "      <td>25.000000</td>\n",
       "      <td>50.000000</td>\n",
       "      <td>25.000000</td>\n",
       "      <td>0.000000</td>\n",
       "      <td>0.000000</td>\n",
       "      <td>4.000000</td>\n",
       "      <td>0.000000</td>\n",
       "      <td>0.000000</td>\n",
       "      <td>0.000000</td>\n",
       "    </tr>\n",
       "    <tr>\n",
       "      <th>25%</th>\n",
       "      <td>28.000000</td>\n",
       "      <td>54.000000</td>\n",
       "      <td>34.000000</td>\n",
       "      <td>1.000000</td>\n",
       "      <td>2.000000</td>\n",
       "      <td>10.000000</td>\n",
       "      <td>0.000000</td>\n",
       "      <td>9.000000</td>\n",
       "      <td>2.000000</td>\n",
       "    </tr>\n",
       "    <tr>\n",
       "      <th>50%</th>\n",
       "      <td>30.000000</td>\n",
       "      <td>60.000000</td>\n",
       "      <td>41.000000</td>\n",
       "      <td>2.000000</td>\n",
       "      <td>5.000000</td>\n",
       "      <td>13.000000</td>\n",
       "      <td>0.000000</td>\n",
       "      <td>19.000000</td>\n",
       "      <td>4.000000</td>\n",
       "    </tr>\n",
       "    <tr>\n",
       "      <th>75%</th>\n",
       "      <td>33.000000</td>\n",
       "      <td>64.000000</td>\n",
       "      <td>50.500000</td>\n",
       "      <td>3.000000</td>\n",
       "      <td>8.000000</td>\n",
       "      <td>24.000000</td>\n",
       "      <td>7.500000</td>\n",
       "      <td>30.000000</td>\n",
       "      <td>5.000000</td>\n",
       "    </tr>\n",
       "    <tr>\n",
       "      <th>max</th>\n",
       "      <td>38.000000</td>\n",
       "      <td>72.000000</td>\n",
       "      <td>65.000000</td>\n",
       "      <td>4.000000</td>\n",
       "      <td>10.000000</td>\n",
       "      <td>42.000000</td>\n",
       "      <td>19.000000</td>\n",
       "      <td>42.000000</td>\n",
       "      <td>6.000000</td>\n",
       "    </tr>\n",
       "  </tbody>\n",
       "</table>\n",
       "</div>"
      ],
      "text/plain": [
       "       Temparature  Humidity    Moisture  Soil Type  Crop Type   Nitrogen  \\\n",
       "count    99.000000  99.000000  99.000000  99.000000  99.000000  99.000000   \n",
       "mean     30.282828  59.151515  43.181818   2.010101   5.151515  18.909091   \n",
       "std       3.502304   5.840331  11.271568   1.410565   3.140790  11.599693   \n",
       "min      25.000000  50.000000  25.000000   0.000000   0.000000   4.000000   \n",
       "25%      28.000000  54.000000  34.000000   1.000000   2.000000  10.000000   \n",
       "50%      30.000000  60.000000  41.000000   2.000000   5.000000  13.000000   \n",
       "75%      33.000000  64.000000  50.500000   3.000000   8.000000  24.000000   \n",
       "max      38.000000  72.000000  65.000000   4.000000  10.000000  42.000000   \n",
       "\n",
       "       Potassium  Phosphorous  Fertilizer Name  \n",
       "count  99.000000    99.000000        99.000000  \n",
       "mean    3.383838    18.606061         3.636364  \n",
       "std     5.814667    13.476978         1.950691  \n",
       "min     0.000000     0.000000         0.000000  \n",
       "25%     0.000000     9.000000         2.000000  \n",
       "50%     0.000000    19.000000         4.000000  \n",
       "75%     7.500000    30.000000         5.000000  \n",
       "max    19.000000    42.000000         6.000000  "
      ]
     },
     "execution_count": 12,
     "metadata": {},
     "output_type": "execute_result"
    }
   ],
   "source": [
    "df.describe()"
   ]
  },
  {
   "cell_type": "code",
   "execution_count": 14,
   "metadata": {},
   "outputs": [
    {
     "data": {
      "text/plain": [
       "0     6\n",
       "1     5\n",
       "2     1\n",
       "3     4\n",
       "4     6\n",
       "     ..\n",
       "94    4\n",
       "95    0\n",
       "96    6\n",
       "97    5\n",
       "98    3\n",
       "Name: Fertilizer Name, Length: 99, dtype: int32"
      ]
     },
     "execution_count": 14,
     "metadata": {},
     "output_type": "execute_result"
    }
   ],
   "source": [
    "x=df.drop(columns='Fertilizer Name')\n",
    "y=df['Fertilizer Name']\n",
    "y"
   ]
  },
  {
   "cell_type": "code",
   "execution_count": 16,
   "metadata": {},
   "outputs": [],
   "source": [
    "from sklearn.model_selection import train_test_split\n",
    "x_train,x_test,y_train,y_test=train_test_split(x,y,test_size=0.2,random_state=0)\n"
   ]
  },
  {
   "cell_type": "code",
   "execution_count": 17,
   "metadata": {},
   "outputs": [
    {
     "name": "stdout",
     "output_type": "stream",
     "text": [
      "    Temparature  Humidity   Moisture  Soil Type  Crop Type  Nitrogen  \\\n",
      "26           30         60        63          3          1         9   \n",
      "86           29         58        30          3          9        13   \n",
      "2            34         65        62          0          1         7   \n",
      "55           27         53        43          0          4        23   \n",
      "75           29         58        42          1          6         9   \n",
      "\n",
      "    Potassium  Phosphorous  \n",
      "26          9           29  \n",
      "86         17           16  \n",
      "2           9           30  \n",
      "55          0           24  \n",
      "75         10           22  \n",
      "26    1\n",
      "86    0\n",
      "2     1\n",
      "55    4\n",
      "75    1\n",
      "Name: Fertilizer Name, dtype: int32\n"
     ]
    }
   ],
   "source": [
    "print(x_test.head())\n",
    "print(y_test.head())"
   ]
  },
  {
   "cell_type": "code",
   "execution_count": 29,
   "metadata": {},
   "outputs": [
    {
     "name": "stdout",
     "output_type": "stream",
     "text": [
      "Decision Tree [1 0 1 4 2 6 6 6 2 4 5 0 2 4 6 4 5 3 1 4] accuracy is 0.15\n",
      "Random Forest[1 0 1 4 1 6 6 6 2 4 5 0 0 4 6 4 5 3 1 4] accuracy is 0.0\n",
      "Support Vector Classifier [5 1 5 4 1 6 6 6 3 4 5 1 1 4 6 4 5 3 5 4] accuracy is 0.8\n",
      "KNeighbor Classifier[1 0 1 4 1 6 6 6 2 4 5 2 0 4 6 4 5 3 1 4] accuracy is 0.1\n"
     ]
    }
   ],
   "source": [
    "from sklearn.tree import DecisionTreeClassifier\n",
    "from sklearn.ensemble import RandomForestClassifier\n",
    "from sklearn.svm import SVC\n",
    "from sklearn.neighbors import KNeighborsClassifier \n",
    "from sklearn.metrics import mean_absolute_error \n",
    "kn=KNeighborsClassifier(n_neighbors=5)\n",
    "s=SVC()\n",
    "\n",
    "dt=DecisionTreeClassifier()\n",
    "rf=RandomForestClassifier()\n",
    "dt.fit(x_train,y_train)\n",
    "y_pred=dt.predict(x_test)\n",
    "rf.fit(x_train,y_train)\n",
    "y_pred2=rf.predict(x_test)\n",
    "s.fit(x_train,y_train)\n",
    "y_pred3=s.predict(x_test)\n",
    "kn.fit(x_train,y_train)\n",
    "y_pred4=kn.predict(x_test)\n",
    "\n",
    "print(f\"Decision Tree {y_pred} accuracy is {mean_absolute_error(y_test,y_pred)}\") \n",
    "print(f\"Random Forest{y_pred2} accuracy is {mean_absolute_error(y_test,y_pred2)}\") \n",
    "print(f\"Support Vector Classifier {y_pred3} accuracy is {mean_absolute_error(y_test,y_pred3)}\") \n",
    "print(f\"KNeighbor Classifier{y_pred4} accuracy is {mean_absolute_error(y_test,y_pred4)}\") "
   ]
  },
  {
   "cell_type": "code",
   "execution_count": null,
   "metadata": {},
   "outputs": [],
   "source": []
  }
 ],
 "metadata": {
  "kernelspec": {
   "display_name": "Python 3",
   "language": "python",
   "name": "python3"
  },
  "language_info": {
   "codemirror_mode": {
    "name": "ipython",
    "version": 3
   },
   "file_extension": ".py",
   "mimetype": "text/x-python",
   "name": "python",
   "nbconvert_exporter": "python",
   "pygments_lexer": "ipython3",
   "version": "3.11.4"
  }
 },
 "nbformat": 4,
 "nbformat_minor": 2
}
