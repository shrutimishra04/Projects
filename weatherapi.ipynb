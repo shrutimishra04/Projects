{
 "cells": [
  {
   "cell_type": "code",
   "execution_count": 1,
   "metadata": {},
   "outputs": [],
   "source": [
    "import requests\n",
    "API_key='0325e3e2f935e8b98acd94f268aaf073'\n",
    "city_name=input(\"enter city name\")\n",
    "\n"
   ]
  },
  {
   "cell_type": "code",
   "execution_count": 10,
   "metadata": {},
   "outputs": [
    {
     "data": {
      "text/plain": [
       "<Response [200]>"
      ]
     },
     "execution_count": 10,
     "metadata": {},
     "output_type": "execute_result"
    }
   ],
   "source": [
    "'''weather_data=requests.get(f\"https://api.openweathermap.org/data/2.5/weather?q={city_name}&appid={API_key}\")\n",
    "\n",
    "weather_data'''"
   ]
  },
  {
   "cell_type": "code",
   "execution_count": 2,
   "metadata": {},
   "outputs": [
    {
     "name": "stdout",
     "output_type": "stream",
     "text": [
      "Haze\n",
      "299.14\n",
      "21\n"
     ]
    }
   ],
   "source": [
    "weather_data=requests.get(f\"https://api.openweathermap.org/data/2.5/weather?q={city_name}&appid={API_key}\")\n",
    "\n",
    "if weather_data.json()['cod']=='404':\n",
    "    print(\"enter correct city name\")\n",
    "\n",
    "else:\n",
    "    weather=weather_data.json()['weather'][0]['main']\n",
    "    print(weather)\n",
    "    temp=weather_data.json()['main']['temp']\n",
    "    print(temp)  \n",
    "    humidity=weather_data.json()['main']['humidity'] \n",
    "    print(humidity)"
   ]
  }
 ],
 "metadata": {
  "kernelspec": {
   "display_name": "venv",
   "language": "python",
   "name": "python3"
  },
  "language_info": {
   "codemirror_mode": {
    "name": "ipython",
    "version": 3
   },
   "file_extension": ".py",
   "mimetype": "text/x-python",
   "name": "python",
   "nbconvert_exporter": "python",
   "pygments_lexer": "ipython3",
   "version": "3.11.4"
  }
 },
 "nbformat": 4,
 "nbformat_minor": 2
}
